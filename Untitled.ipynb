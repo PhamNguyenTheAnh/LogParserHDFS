{
 "cells": [
  {
   "cell_type": "code",
   "execution_count": 10,
   "id": "a602326d",
   "metadata": {},
   "outputs": [],
   "source": [
    "import sys\n",
    "import pandas"
   ]
  },
  {
   "cell_type": "code",
   "execution_count": 11,
   "id": "d92ee702",
   "metadata": {},
   "outputs": [
    {
     "data": {
      "text/plain": [
       "['C:\\\\Users\\\\Anh Pham',\n",
       " 'C:\\\\Users\\\\Anh Pham\\\\anaconda3\\\\python39.zip',\n",
       " 'C:\\\\Users\\\\Anh Pham\\\\anaconda3\\\\DLLs',\n",
       " 'C:\\\\Users\\\\Anh Pham\\\\anaconda3\\\\lib',\n",
       " 'C:\\\\Users\\\\Anh Pham\\\\anaconda3',\n",
       " '',\n",
       " 'C:\\\\Users\\\\Anh Pham\\\\anaconda3\\\\lib\\\\site-packages',\n",
       " 'C:\\\\Users\\\\Anh Pham\\\\anaconda3\\\\lib\\\\site-packages\\\\win32',\n",
       " 'C:\\\\Users\\\\Anh Pham\\\\anaconda3\\\\lib\\\\site-packages\\\\win32\\\\lib',\n",
       " 'C:\\\\Users\\\\Anh Pham\\\\anaconda3\\\\lib\\\\site-packages\\\\Pythonwin',\n",
       " '../']"
      ]
     },
     "execution_count": 11,
     "metadata": {},
     "output_type": "execute_result"
    }
   ],
   "source": [
    "sys.path"
   ]
  },
  {
   "cell_type": "code",
   "execution_count": 12,
   "id": "2776bf61",
   "metadata": {},
   "outputs": [],
   "source": [
    "sys.path.append('../')"
   ]
  },
  {
   "cell_type": "code",
   "execution_count": 13,
   "id": "6aea198c",
   "metadata": {},
   "outputs": [
    {
     "data": {
      "text/plain": [
       "['C:\\\\Users\\\\Anh Pham',\n",
       " 'C:\\\\Users\\\\Anh Pham\\\\anaconda3\\\\python39.zip',\n",
       " 'C:\\\\Users\\\\Anh Pham\\\\anaconda3\\\\DLLs',\n",
       " 'C:\\\\Users\\\\Anh Pham\\\\anaconda3\\\\lib',\n",
       " 'C:\\\\Users\\\\Anh Pham\\\\anaconda3',\n",
       " '',\n",
       " 'C:\\\\Users\\\\Anh Pham\\\\anaconda3\\\\lib\\\\site-packages',\n",
       " 'C:\\\\Users\\\\Anh Pham\\\\anaconda3\\\\lib\\\\site-packages\\\\win32',\n",
       " 'C:\\\\Users\\\\Anh Pham\\\\anaconda3\\\\lib\\\\site-packages\\\\win32\\\\lib',\n",
       " 'C:\\\\Users\\\\Anh Pham\\\\anaconda3\\\\lib\\\\site-packages\\\\Pythonwin',\n",
       " '../',\n",
       " '../']"
      ]
     },
     "execution_count": 13,
     "metadata": {},
     "output_type": "execute_result"
    }
   ],
   "source": [
    "sys.path"
   ]
  },
  {
   "cell_type": "code",
   "execution_count": 14,
   "id": "0b681d47",
   "metadata": {},
   "outputs": [],
   "source": [
    "from logparser import Drain"
   ]
  },
  {
   "cell_type": "code",
   "execution_count": 15,
   "id": "087c1b83",
   "metadata": {},
   "outputs": [],
   "source": [
    "input_dir  = 'C:/Users/Anh Pham/HDFS/'  # The input directory of log file\n",
    "output_dir = 'Drain_result/'  # The output directory of parsing results\n",
    "log_file   = 'HDFS_2k.log'  # The input log file name\n",
    "log_format = '<Date> <Time> <Pid> <Level> <Component>: <Content>'  # HDFS log format"
   ]
  },
  {
   "cell_type": "code",
   "execution_count": 16,
   "id": "1df68365",
   "metadata": {},
   "outputs": [],
   "source": [
    "# Regular expression list for optional preprocessing (default: [])\n",
    "regex      = [\n",
    "    r'blk_(|-)[0-9]+' , # block id\n",
    "    r'(/|)([0-9]+\\.){3}[0-9]+(:[0-9]+|)(:|)', # IP\n",
    "    r'(?<=[^A-Za-z0-9])(\\-?\\+?\\d+)(?=[^A-Za-z0-9])|[0-9]+$', # Numbers\n",
    "]\n",
    "st         = 0.5  # Similarity threshold\n",
    "depth      = 4  # Depth of all leaf nodes"
   ]
  },
  {
   "cell_type": "code",
   "execution_count": 17,
   "id": "46f74620",
   "metadata": {},
   "outputs": [],
   "source": [
    "parser = Drain.LogParser(log_format, indir=input_dir, outdir=output_dir,  depth=depth, st=st, rex=regex)"
   ]
  },
  {
   "cell_type": "code",
   "execution_count": 18,
   "id": "ee09335a",
   "metadata": {},
   "outputs": [
    {
     "name": "stdout",
     "output_type": "stream",
     "text": [
      "Parsing file: C:/Users/Anh Pham/HDFS/HDFS_2k.log\n",
      "Processed 50.0% of log lines.\n",
      "Processed 100.0% of log lines.\n",
      "Parsing done. [Time taken: 0:00:00.361939]\n"
     ]
    }
   ],
   "source": [
    "parser.parse(log_file)"
   ]
  },
  {
   "cell_type": "code",
   "execution_count": null,
   "id": "697fd8ad",
   "metadata": {},
   "outputs": [],
   "source": []
  },
  {
   "cell_type": "code",
   "execution_count": null,
   "id": "5568bfc2",
   "metadata": {},
   "outputs": [],
   "source": []
  }
 ],
 "metadata": {
  "kernelspec": {
   "display_name": "Python 3 (ipykernel)",
   "language": "python",
   "name": "python3"
  },
  "language_info": {
   "codemirror_mode": {
    "name": "ipython",
    "version": 3
   },
   "file_extension": ".py",
   "mimetype": "text/x-python",
   "name": "python",
   "nbconvert_exporter": "python",
   "pygments_lexer": "ipython3",
   "version": "3.9.12"
  }
 },
 "nbformat": 4,
 "nbformat_minor": 5
}
